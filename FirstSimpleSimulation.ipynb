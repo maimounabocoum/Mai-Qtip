{
 "cells": [
  {
   "cell_type": "code",
   "execution_count": 1,
   "metadata": {},
   "outputs": [],
   "source": [
    "import numpy as np\n",
    "import matplotlib.pyplot as plt\n",
    "from qutip import *"
   ]
  },
  {
   "cell_type": "code",
   "execution_count": 3,
   "metadata": {},
   "outputs": [
    {
     "name": "stdout",
     "output_type": "stream",
     "text": [
      "Quantum object: dims = [[2], [2]], shape = (2, 2), type = oper, isherm = True\n",
      "Qobj data =\n",
      "[[1. 0.]\n",
      " [0. 0.]]\n"
     ]
    }
   ],
   "source": [
    "# create a density matrix of size 2 usinf Fock base preparation\n",
    "\n",
    "RHO0 = fock_dm(2)\n",
    "\n",
    "print(RHO0)"
   ]
  },
  {
   "cell_type": "code",
   "execution_count": 12,
   "metadata": {},
   "outputs": [],
   "source": [
    "# building a Hamiltoninan using \n",
    "H = 2*np.pi * 0.1 * sigmax()"
   ]
  },
  {
   "cell_type": "code",
   "execution_count": 13,
   "metadata": {},
   "outputs": [
    {
     "ename": "ValueError",
     "evalue": "dimension mismatch",
     "output_type": "error",
     "traceback": [
      "\u001b[1;31m---------------------------------------------------------------------------\u001b[0m",
      "\u001b[1;31mValueError\u001b[0m                                Traceback (most recent call last)",
      "Cell \u001b[1;32mIn[13], line 6\u001b[0m\n\u001b[0;32m      2\u001b[0m psi0 \u001b[39m=\u001b[39m basis(\u001b[39m2\u001b[39m, \u001b[39m0\u001b[39m)\n\u001b[0;32m      4\u001b[0m times \u001b[39m=\u001b[39m np\u001b[39m.\u001b[39mlinspace(\u001b[39m0.0\u001b[39m, \u001b[39m10.0\u001b[39m, \u001b[39m100\u001b[39m)\n\u001b[1;32m----> 6\u001b[0m result \u001b[39m=\u001b[39m mesolve(H\u001b[39m*\u001b[39;49mnp\u001b[39m.\u001b[39;49msin(times), psi0, times, [np\u001b[39m.\u001b[39msqrt(\u001b[39m0.05\u001b[39m) \u001b[39m*\u001b[39m sigmax()], [sigmaz(), sigmay()])\n\u001b[0;32m      8\u001b[0m fig, ax \u001b[39m=\u001b[39m plt\u001b[39m.\u001b[39msubplots()\n\u001b[0;32m     10\u001b[0m ax\u001b[39m.\u001b[39mplot(times, result\u001b[39m.\u001b[39mexpect[\u001b[39m0\u001b[39m]) \n",
      "File \u001b[1;32mc:\\Users\\Maimouna\\AppData\\Local\\Programs\\Python\\Python311\\Lib\\site-packages\\qutip\\qobj.py:564\u001b[0m, in \u001b[0;36mQobj.__mul__\u001b[1;34m(self, other)\u001b[0m\n\u001b[0;32m    562\u001b[0m         \u001b[39mreturn\u001b[39;00m out\n\u001b[0;32m    563\u001b[0m     \u001b[39melse\u001b[39;00m:\n\u001b[1;32m--> 564\u001b[0m         \u001b[39mreturn\u001b[39;00m \u001b[39mself\u001b[39;49m\u001b[39m.\u001b[39;49mdata \u001b[39m*\u001b[39;49m other\n\u001b[0;32m    566\u001b[0m \u001b[39melif\u001b[39;00m \u001b[39misinstance\u001b[39m(other, \u001b[39mlist\u001b[39m):\n\u001b[0;32m    567\u001b[0m     \u001b[39m# if other is a list, do element-wise multiplication\u001b[39;00m\n\u001b[0;32m    568\u001b[0m     out \u001b[39m=\u001b[39m np\u001b[39m.\u001b[39mempty(\u001b[39mlen\u001b[39m(other), dtype\u001b[39m=\u001b[39m\u001b[39mobject\u001b[39m)\n",
      "File \u001b[1;32mc:\\Users\\Maimouna\\AppData\\Local\\Programs\\Python\\Python311\\Lib\\site-packages\\cvxpy\\interface\\scipy_wrapper.py:41\u001b[0m, in \u001b[0;36mwrap_bin_op.<locals>.new_method\u001b[1;34m(self, other)\u001b[0m\n\u001b[0;32m     39\u001b[0m     \u001b[39mreturn\u001b[39;00m \u001b[39mNotImplemented\u001b[39m\n\u001b[0;32m     40\u001b[0m \u001b[39melse\u001b[39;00m:\n\u001b[1;32m---> 41\u001b[0m     \u001b[39mreturn\u001b[39;00m method(\u001b[39mself\u001b[39;49m, other)\n",
      "File \u001b[1;32mc:\\Users\\Maimouna\\AppData\\Local\\Programs\\Python\\Python311\\Lib\\site-packages\\scipy\\sparse\\_matrix.py:48\u001b[0m, in \u001b[0;36mspmatrix.__mul__\u001b[1;34m(self, other)\u001b[0m\n\u001b[0;32m     47\u001b[0m \u001b[39mdef\u001b[39;00m \u001b[39m__mul__\u001b[39m(\u001b[39mself\u001b[39m, other):\n\u001b[1;32m---> 48\u001b[0m     \u001b[39mreturn\u001b[39;00m \u001b[39mself\u001b[39;49m\u001b[39m.\u001b[39;49m_mul_dispatch(other)\n",
      "File \u001b[1;32mc:\\Users\\Maimouna\\AppData\\Local\\Programs\\Python\\Python311\\Lib\\site-packages\\scipy\\sparse\\_base.py:553\u001b[0m, in \u001b[0;36m_spbase._mul_dispatch\u001b[1;34m(self, other)\u001b[0m\n\u001b[0;32m    550\u001b[0m \u001b[39mif\u001b[39;00m other\u001b[39m.\u001b[39mndim \u001b[39m==\u001b[39m \u001b[39m1\u001b[39m \u001b[39mor\u001b[39;00m other\u001b[39m.\u001b[39mndim \u001b[39m==\u001b[39m \u001b[39m2\u001b[39m \u001b[39mand\u001b[39;00m other\u001b[39m.\u001b[39mshape[\u001b[39m1\u001b[39m] \u001b[39m==\u001b[39m \u001b[39m1\u001b[39m:\n\u001b[0;32m    551\u001b[0m     \u001b[39m# dense row or column vector\u001b[39;00m\n\u001b[0;32m    552\u001b[0m     \u001b[39mif\u001b[39;00m other\u001b[39m.\u001b[39mshape \u001b[39m!=\u001b[39m (N,) \u001b[39mand\u001b[39;00m other\u001b[39m.\u001b[39mshape \u001b[39m!=\u001b[39m (N, \u001b[39m1\u001b[39m):\n\u001b[1;32m--> 553\u001b[0m         \u001b[39mraise\u001b[39;00m \u001b[39mValueError\u001b[39;00m(\u001b[39m'\u001b[39m\u001b[39mdimension mismatch\u001b[39m\u001b[39m'\u001b[39m)\n\u001b[0;32m    555\u001b[0m     result \u001b[39m=\u001b[39m \u001b[39mself\u001b[39m\u001b[39m.\u001b[39m_mul_vector(np\u001b[39m.\u001b[39mravel(other))\n\u001b[0;32m    557\u001b[0m     \u001b[39mif\u001b[39;00m \u001b[39misinstance\u001b[39m(other, np\u001b[39m.\u001b[39mmatrix):\n",
      "\u001b[1;31mValueError\u001b[0m: dimension mismatch"
     ]
    }
   ],
   "source": [
    "\n",
    "# definition os the ket of dimension 2 : basis(2, 0)\n",
    "psi0 = basis(2, 0)\n",
    "\n",
    "times = np.linspace(0.0, 10.0, 100)\n",
    "\n",
    "result = mesolve(H, psi0, times, [np.sqrt(0.05) * sigmax()], [sigmaz(), sigmay()])\n",
    "\n",
    "fig, ax = plt.subplots()\n",
    "\n",
    "ax.plot(times, result.expect[0]) \n",
    "\n",
    "ax.plot(times, result.expect[1]) \n",
    "\n",
    "ax.set_xlabel('Time') \n",
    "\n",
    "ax.set_ylabel('Expectation values') \n",
    "\n",
    "ax.legend((\"Sigma-Z\", \"Sigma-Y\"))  \n",
    "\n",
    "plt.show() "
   ]
  }
 ],
 "metadata": {
  "kernelspec": {
   "display_name": "Python 3",
   "language": "python",
   "name": "python3"
  },
  "language_info": {
   "codemirror_mode": {
    "name": "ipython",
    "version": 3
   },
   "file_extension": ".py",
   "mimetype": "text/x-python",
   "name": "python",
   "nbconvert_exporter": "python",
   "pygments_lexer": "ipython3",
   "version": "3.11.4"
  },
  "orig_nbformat": 4
 },
 "nbformat": 4,
 "nbformat_minor": 2
}
