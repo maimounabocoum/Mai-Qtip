{
 "cells": [
  {
   "cell_type": "code",
   "execution_count": 25,
   "metadata": {},
   "outputs": [
    {
     "name": "stdout",
     "output_type": "stream",
     "text": [
      "[[0.+0.j 0.+0.j 0.+0.j]\n",
      " [0.+0.j 1.+0.j 0.+0.j]\n",
      " [0.+0.j 0.+0.j 0.+0.j]]\n"
     ]
    },
    {
     "data": {
      "text/plain": [
       "<matplotlib.image.AxesImage at 0x25e7f022310>"
      ]
     },
     "execution_count": 25,
     "metadata": {},
     "output_type": "execute_result"
    },
    {
     "data": {
      "image/png": "[encoded data removed]",
      "text/plain": [
       "<Figure size 640x480 with 1 Axes>"
      ]
     },
     "metadata": {},
     "output_type": "display_data"
    }
   ],
   "source": [
    "# build matrice\n",
    "import numpy as np\n",
    "import matplotlib.pyplot as plt\n",
    "from qutip import *\n",
    "\n",
    "M = [[1,2,3],[5,4,3]]\n",
    "M2 = np.array(M)\n",
    "M = Qobj(dims=[[3],[3]]) \n",
    "M.data[1,1] = 1\n",
    "M2 = M.data\n",
    "print(M.full())\n",
    "\n",
    "plt.imshow(abs(M.full()),aspect='auto',interpolation='none')"
   ]
  },
  {
   "cell_type": "code",
   "execution_count": null,
   "metadata": {},
   "outputs": [],
   "source": [
    "# some Qutip Commands\n",
    "# Conjugate\tQ.conj()\tConjugate of quantum object.\n",
    "# Dagger (adjoint)\tQ.dag()\tReturns adjoint (dagger) of object.\n",
    "# Diagonal\tQ.diag()\tReturns the diagonal elements.\n",
    "# Eigenenergies\tQ.eigenenergies()\tEigenenergies (values) of operator.\n",
    "# Eigenstates\tQ.eigenstates()\tReturns eigenvalues and eigenvectors.\n",
    "# Exponential\tQ.expm()\tMatrix exponential of operator.\n",
    "# Full\tQ.full()\tReturns full (not sparse) array of Q’s data.\n",
    "# Groundstate\tQ.groundstate()\tEigenval & eigket of Qobj groundstate.\n",
    "# Matrix Element\tQ.matrix_element(bra,ket) \tMatrix element <bra|Q|ket>\n",
    "# Norm\tQ.norm() \tReturns L2 norm for states, trace norm for operators.\n",
    "# Partial Trace\tQ.ptrace(sel) \tPartial trace returning components selected using ‘sel’ parameter.\n",
    "# Sqrt\tQ.sqrtm()\tMatrix sqrt of operator.\n",
    "# Tidyup\tQ.tidyup()\tRemoves small elements from Qobj.\n",
    "# Trace\tQ.tr()\tReturns trace of quantum object.\n",
    "# Transform\tQ.transform(inpt)\tA basis transformation defined by matrix or list of kets ‘inpt’ .\n",
    "# Transpose\tQ.trans()\tTranspose of quantum object.\n",
    "# Unit\tQ.unit()\tReturns normalized (unit) vector Q/Q.norm()"
   ]
  }
 ],
 "metadata": {
  "kernelspec": {
   "display_name": "Python 3",
   "language": "python",
   "name": "python3"
  },
  "language_info": {
   "codemirror_mode": {
    "name": "ipython",
    "version": 3
   },
   "file_extension": ".py",
   "mimetype": "text/x-python",
   "name": "python",
   "nbconvert_exporter": "python",
   "pygments_lexer": "ipython3",
   "version": "3.11.4"
  },
  "orig_nbformat": 4
 },
 "nbformat": 4,
 "nbformat_minor": 2
}
