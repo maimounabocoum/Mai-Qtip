{
 "cells": [
  {
   "cell_type": "code",
   "execution_count": 1,
   "metadata": {},
   "outputs": [],
   "source": [
    "import numpy as np\n",
    "import matplotlib.pyplot as plt\n",
    "from arc import *  # Import ARC (Alkali Rydberg Calculator)\n",
    "from qutip import *\n",
    "from scipy.fft import fft, ifft\n",
    "from scipy import constants "
   ]
  },
  {
   "cell_type": "code",
   "execution_count": 2,
   "metadata": {},
   "outputs": [],
   "source": [
    "def C(F,m):\n",
    "  return np.sqrt(F*(F+1)-m*(m+1))"
   ]
  },
  {
   "cell_type": "code",
   "execution_count": 278,
   "metadata": {},
   "outputs": [
    {
     "name": "stdout",
     "output_type": "stream",
     "text": [
      "0.09097008165766134\n",
      "10.992625067252337\n"
     ]
    }
   ],
   "source": [
    "# define parameters used for the simulation\n",
    "Bx = 0.5e-6       # Magnetic field along x in T\n",
    "By = 1e-3       # Magnetic field along y in T\n",
    "omega_y = 1e3   # Magnetic field RF frequency in Hz\n",
    "# constants\n",
    "muB = 9.2740100783*1e-24 # Bohr magneton SI units\n",
    "# Load parameters for Caesium from Library ARC\n",
    "atom = Caesium()\n",
    "# get the hyperfine structure coupling coefficients in Hz for each line\n",
    "Coeff_ground    = atom.getHFSCoefficients(6,0,0.5) # 6S1/2\n",
    "Coeff_D1        = atom.getHFSCoefficients(6,1,0.5) # 6P1/2\n",
    "Coeff_D2        = atom.getHFSCoefficients(6,1,1.5) # 6P3/2\n",
    "nu_hfs_ground   = Coeff_ground[0]   # nu_hfs in HZ\n",
    "nu_hfs_D1       = Coeff_D1[0]       # nu_hfs in HZ\n",
    "nu_hfs_D2       = Coeff_D2[0]       # nu_hfs in HZ\n",
    "\n",
    "# T : normalization time used for the simulation\n",
    "T = (constants.hbar)/(muB*Bx)\n",
    "\n",
    "print(T*1e3/0.25)\n",
    "print(1e-3*T**-1*0.25)"
   ]
  },
  {
   "cell_type": "code",
   "execution_count": 279,
   "metadata": {},
   "outputs": [],
   "source": [
    "# Here is the Class alk_atom created by Maimouna Bocoum - 01-08-2023\n",
    "class alk_atom:\n",
    "    def __init__(self,myList:list):\n",
    "        # test the type of the list and trck error\n",
    "        #try:\n",
    "            self.MakeAtomFromList(myList)\n",
    "\n",
    "        # except:\n",
    "        #     print(\"error in construction format inpout. exemple of acceptable inpout: [ [0,[3,4]] , [1,[3,4]] ]\")\n",
    "        # pass\n",
    "\n",
    "    def AddLeveltoList(self,Level:list):\n",
    "          # Level exemple of list structure: [0,[1,2]], for l=0 ; F=1 and F=2\n",
    "        self.LevelList.append(Level)\n",
    "        self.MakeAtomFromList()\n",
    "        \n",
    "    def MakeAtomFromList(self,myList):\n",
    "            N = len(myList)\n",
    "            self.LevelList = myList\n",
    "            self.F = []\n",
    "            self.L = []\n",
    "            self.J = []\n",
    "            self.M = []\n",
    "\n",
    "            for loop in range(0,N):\n",
    "                Line = myList[loop]  # get l orbital number. l=0 for 6S1/2 , l=1 for 6P1/2 and 6P3/2\n",
    "                F = Line[2]          # get list of hyperfine F values\n",
    "                for f in range(0,len(F)):\n",
    "                     for m in range(0,F[f]*2+1):\n",
    "                        self.L.append(Line[0])\n",
    "                        self.J.append(Line[1])\n",
    "                        self.F.append(F[f])\n",
    "                        self.M.append( - F[f] + m )\n",
    "                        \n",
    "            self.N = len(self.M)\n",
    "\n",
    "            # count how many levels are not in the ground state\n",
    "            self.N_notground = 0\n",
    "            for loop in range(0,self.N):\n",
    "                if [self.L[loop] , self.J[loop] , self.F[loop]]!=[0,0.5,min(self.F)]:\n",
    "                    self.N_notground = self.N_notground + 1\n",
    "\n",
    "    def BuildMvector(self):\n",
    "        self.M = []\n",
    "        for i in range(0,len(self.F)):\n",
    "             for m in range(0,self.F[i]*2+1):\n",
    "                self.M.append( - self.F[i] + m )\n",
    "\n",
    "    def printAtom(self):\n",
    "        print(self.N)\n",
    "        print(self.LevelList)\n",
    "        print(self.L)\n",
    "        print(self.J)\n",
    "        print(self.F)\n",
    "        print(self.M)\n",
    "\n",
    "    #@classmethod\n",
    "    def FetchKetIndex(self,Level:list):\n",
    "         # get List of all elements\n",
    "        KetList = []\n",
    "        for loop in range(0,self.N,1):\n",
    "            KetList.append([self.L[loop],self.J[loop],self.F[loop],self.M[loop]])\n",
    "        return [ i for (i,e) in enumerate(KetList) if e == Level ]\n",
    "\n"
   ]
  },
  {
   "cell_type": "code",
   "execution_count": 280,
   "metadata": {},
   "outputs": [
    {
     "name": "stdout",
     "output_type": "stream",
     "text": [
      "8\n",
      "[[0, 0.5, [1, 2]]]\n",
      "[0, 0, 0, 0, 0, 0, 0, 0]\n",
      "[0.5, 0.5, 0.5, 0.5, 0.5, 0.5, 0.5, 0.5]\n",
      "[1, 1, 1, 2, 2, 2, 2, 2]\n",
      "[-1, 0, 1, -2, -1, 0, 1, 2]\n",
      "[]\n"
     ]
    }
   ],
   "source": [
    "# initialize by list of line est hyperfine levels to account for\n",
    "# exmple [l=0, F=[3,4]] is the 6S1/2 level, for F=3 and F=4.\n",
    "# All mF level will be automatically filled by -F<= mF <= F.\n",
    "\n",
    "# preparation state for the MORS in list of [[l,j,[F]]]\n",
    "myList = [ [0,0.5,[1,2]] ]\n",
    "my_cesium = alk_atom(myList)\n",
    "my_cesium.printAtom()\n",
    "\n",
    "IndexList = []\n",
    "loop = 0\n",
    "\n",
    "print(my_cesium.FetchKetIndex([0,0.5,3,-3]))\n",
    "#print([ i for (i,e) in enumerate([1,3,4,5,6]) if 1 == any([1,5])] )\n",
    "\n"
   ]
  },
  {
   "cell_type": "code",
   "execution_count": 309,
   "metadata": {},
   "outputs": [
    {
     "name": "stdout",
     "output_type": "stream",
     "text": [
      "1.0\n"
     ]
    }
   ],
   "source": [
    "# initialize quantum initial state\n",
    "# by convention, the order of the basis is that of my_cesium.M\n",
    "phi0 = basis( my_cesium.N , my_cesium.N-1 )+ 0.7*basis( my_cesium.N , my_cesium.N-2)\n",
    "# for i in range(my_cesium.N_notground,my_cesium.N,1): # equidistribution of over all element of the Hilbert base\n",
    "#     phi0 += basis(my_cesium.N,i) \n",
    "\n",
    "phi0 = (1/phi0.norm())*phi0 # normalize intitial ket\n",
    "\n",
    "\n",
    "#print(my_cesium.M)\n",
    "print(phi0.norm())"
   ]
  },
  {
   "cell_type": "code",
   "execution_count": 310,
   "metadata": {},
   "outputs": [
    {
     "name": "stderr",
     "output_type": "stream",
     "text": [
      "c:\\Users\\Maimouna\\AppData\\Local\\Programs\\Python\\Python311\\Lib\\site-packages\\scipy\\sparse\\_index.py:100: SparseEfficiencyWarning: Changing the sparsity structure of a csr_matrix is expensive. lil_matrix is more efficient.\n",
      "  self._set_intXint(row, col, x.flat[0])\n"
     ]
    }
   ],
   "source": [
    "# self construction of spinnor operator\n",
    "Sigma = Qobj(dims=[[my_cesium.N],[my_cesium.N]]) # initialize et zero N by N matrix quantum object\n",
    "for i in range(0,my_cesium.N,1):\n",
    "     for j in range(0,my_cesium.N,1):\n",
    "        Sigma += basis(my_cesium.N, i)*basis(my_cesium.N, j).dag()\n",
    "\n",
    "# self construction of Jx operator in hbar unit, where x is the quantization axis\n",
    "Jx = Qobj(dims=[[my_cesium.N],[my_cesium.N]]) # initialize et zero N by N matrix quantum object\n",
    "for m in range(0,my_cesium.N,1):\n",
    "        Jx.data[m,m] = my_cesium.M[m]\n",
    "\n",
    "# self construction of Jy operator in hbar unit (Jy is adimensioned)\n",
    "Jy = Qobj(dims=[[my_cesium.N],[my_cesium.N]]) # initialize et zero N by N matrix quantum object\n",
    "for m in range(0,my_cesium.N-1,1):\n",
    "     Jy+=0.5*C(my_cesium.F[m],my_cesium.M[m])*( basis(my_cesium.N, m+1)*basis(my_cesium.N, m).dag() \n",
    "                                               + basis(my_cesium.N, m)*basis(my_cesium.N, m+1).dag() )\n",
    "     # note that C(n,n) = 0 which makes this loop not overlap basis with different F values\n",
    "\n",
    "# # self construction of Jz operator in hbar unit\n",
    "Jz = Qobj(dims=[[my_cesium.N],[my_cesium.N]]) # initialize et zero N by N matrix quantum object\n",
    "for m in range(0,my_cesium.N-1,1):\n",
    "    Jz+=-0.5*1j*C(my_cesium.F[m],my_cesium.M[m])*( basis(my_cesium.N, m+1)*basis(my_cesium.N, m).dag() \n",
    "                                                  - basis(my_cesium.N, m)*basis(my_cesium.N, m+1).dag() )\n",
    "\n",
    "\n",
    "# Here, we create the adimension OMEGAs and OMEGAsqz operator in order to define the Hamiltoninan\n",
    "OMEGAs          = Qobj(dims=[[my_cesium.N],[my_cesium.N]]) # initialize et zero N by N matrix quantum object\n",
    "OMEGAsqz        = Qobj(dims=[[my_cesium.N],[my_cesium.N]]) # initialize et zero N by N matrix quantum object\n",
    "for m in range(0,my_cesium.N,1):\n",
    "\n",
    "        gf = atom.getLandegf( my_cesium.L[m] , my_cesium.J[m] , my_cesium.F[m] ) # get Landé coefficient getLandegf(s,j,F)\n",
    "\n",
    "        OMEGAs.data[m,m] = gf # normalized value by (mu_B*B/hbar)\n",
    "        OMEGAsqz.data[m,m] = 0.01\n",
    "     # note that C(n,n) = 0 which makes this loop not overlap basis with different F values\n",
    "\n",
    "\n",
    "# # self construction of atome hamiltoninan H0 operator in hbar unit, in absence of By RF field\n",
    "H0 = Qobj(dims=[[my_cesium.N],[my_cesium.N]]) # initialize et zero N by N matrix quantum object\n",
    "H0 = OMEGAs*Jx + OMEGAsqz*Jx*Jx\n",
    "\n"
   ]
  },
  {
   "cell_type": "code",
   "execution_count": 311,
   "metadata": {},
   "outputs": [
    {
     "name": "stdout",
     "output_type": "stream",
     "text": [
      "2.2742520414415335\n",
      "3\n",
      "8\n",
      "Quantum object: dims = [[8], [8]], shape = (8, 8), type = oper, isherm = False\n",
      "Qobj data =\n",
      "[[0.         0.         0.         0.         0.         0.\n",
      "  0.         0.01137126]\n",
      " [0.         0.         0.         0.         0.         0.\n",
      "  0.         0.01137126]\n",
      " [0.         0.         0.         0.         0.         0.\n",
      "  0.         0.01137126]\n",
      " [0.         0.         0.         0.         0.         0.\n",
      "  0.         0.01137126]\n",
      " [0.         0.         0.         0.         0.         0.\n",
      "  0.         0.01137126]\n",
      " [0.         0.         0.         0.         0.         0.\n",
      "  0.         0.01137126]\n",
      " [0.         0.         0.         0.         0.         0.\n",
      "  0.         0.01137126]\n",
      " [0.         0.         0.         0.         0.         0.\n",
      "  0.         0.        ]]\n"
     ]
    }
   ],
   "source": [
    "# Collapse operators c_ops = [[C0, py_coeff0], C1, [C2, py_coeff2], ...] \n",
    "# We will consider that All level collapse exepct for the ground state (l=0,j=0.5,F=3). Loop should be performed on all other levels.\n",
    "# not that all level are ordered by increasing energy so that collapse are each to populate in j>loop\n",
    "Cops = [Qobj(dims=[[my_cesium.N],[my_cesium.N]]) for i in range(my_cesium.N)] # initializing an empty list\n",
    "\n",
    "offset = my_cesium.N - my_cesium.N_notground # element to skip the the basis to reach first collapsing ket\n",
    "for loop in range(0,my_cesium.N_notground,1): # loop on excited states\n",
    "            # we now distinguish all case for the possible deacays\n",
    "            if [my_cesium.L[offset+loop] , my_cesium.J[offset+loop] , my_cesium.F[offset+loop]] \\\n",
    "                ==[0,0.5,min(my_cesium.F)+1]:\n",
    "                # spin decay\n",
    "                for j in range(0,offset +loop,1): # loop on all ket lower in energy than the current one\n",
    "                    gamma = 500 # we set the decay rate to 10 Hz / (gamma*constants.hbar)/(muB*Bx)\n",
    "                    Cops[loop] = Cops[loop] + \\\n",
    "                        np.sqrt(gamma*T)*basis(my_cesium.N, j)*basis(my_cesium.N, offset + loop).dag()\n",
    "            elif [my_cesium.L[loop] , my_cesium.J[loop] , my_cesium.F[loop]]==[1,0.5,min(my_cesium.F)+1]:\n",
    "                # radiative decay 6P1/2\n",
    "                for j in range(0,offset +loop,1): # loop on all ket lower in energy than the current one\n",
    "                    gamma = atom.getStateLifetime(6,1,0.5, temperature=300,includeLevelsUpTo=7)\n",
    "                    Cops[loop] = Cops[loop] + \\\n",
    "                        np.sqrt(gamma*T)*basis(my_cesium.N, j)*basis(my_cesium.N, offset + loop).dag()\n",
    "            elif [my_cesium.L[loop] , my_cesium.J[loop] , my_cesium.F[loop]]==[1,1.5,min(my_cesium.F)+1]:\n",
    "                # radiative decay 6P3/2\n",
    "                for j in range(0,offset +loop,1): # loop on all ket lower in energy than the current one\n",
    "                    gamma = atom.getStateLifetime(6,1,1.5, temperature=300,includeLevelsUpTo=7)\n",
    "                    Cops[loop] = Cops[loop] + \\\n",
    "                        np.sqrt(gamma*T)*basis(my_cesium.N, j)*basis(my_cesium.N, offset + loop).dag()\n",
    "\n",
    "\n",
    "print(1e3*(100*constants.hbar)/(muB*Bx))\n",
    "print(offset)\n",
    "print(my_cesium.N)\n",
    "print(Cops[4])\n",
    "\n"
   ]
  },
  {
   "cell_type": "code",
   "execution_count": 69,
   "metadata": {},
   "outputs": [],
   "source": [
    "def By(t,arg):\n",
    "    return np.sin(2*np.pi*0.1*t)"
   ]
  },
  {
   "cell_type": "code",
   "execution_count": 323,
   "metadata": {},
   "outputs": [],
   "source": [
    "# Simulation of the dynamic in absence of RF Magnetic field\n",
    "\n",
    "rho0 = phi0*phi0.dag()\n",
    "rho0 = rho0/np.sqrt(rho0.norm())\n",
    "\n",
    "opts = Options()\n",
    "opts.store_states = True\n",
    "opts.store_final_state = True\n",
    "#print(opts)\n",
    "\n",
    "t = np.linspace(0, 1000, 1000) # Define time vector\n",
    "output = mesolve(H0, rho0, t,Cops, options=opts) # return a list density matrices over time in \"output.states\"\n",
    "\n",
    "# evaluation traces of operators, loop on the list\n",
    "meanJx = np.zeros(len(t))\n",
    "meanJz = np.zeros(len(t))\n",
    "meanJy = np.zeros(len(t))\n",
    "meanRho = np.zeros(len(t))\n",
    "monitor = np.zeros(len(t))\n",
    "\n",
    "for i in range(0,len(t)):\n",
    "    tempJx  = Jx*output.states[i]\n",
    "    tempJy  = Jy*output.states[i]\n",
    "    tempJz  = Jz*output.states[i]\n",
    "    tempRho = output.states[i]*output.states[i]\n",
    "    meanJx[i]   = tempJx.norm()\n",
    "    meanJy[i]   = tempJy.norm()\n",
    "    meanJz[i]   = tempJz.norm()\n",
    "    meanRho[i]  = tempRho.norm()\n",
    "    monitor[i] = abs(output.states[i][0,0])\n",
    "\n",
    "\n"
   ]
  },
  {
   "cell_type": "code",
   "execution_count": 324,
   "metadata": {},
   "outputs": [
    {
     "data": {
      "text/plain": [
       "Text(0.5, 0, 'Time (ms)')"
      ]
     },
     "execution_count": 324,
     "metadata": {},
     "output_type": "execute_result"
    },
    {
     "data": {
      "image/png": "[encoded data removed]",
      "text/plain": [
       "<Figure size 640x480 with 1 Axes>"
      ]
     },
     "metadata": {},
     "output_type": "display_data"
    }
   ],
   "source": [
    "# print(monitor)\n",
    "fig, ax = plt.subplots()\n",
    "ax.plot(1e3*T*output.times, meanJz) \n",
    "ax.plot(1e3*T*output.times, meanJy) \n",
    "ax.plot(1e3*T*output.times, meanRho) \n",
    "ax.plot(1e3*T*output.times, monitor)\n",
    "ax.set_xlabel('Time (ms)') \n"
   ]
  },
  {
   "cell_type": "code",
   "execution_count": 320,
   "metadata": {},
   "outputs": [
    {
     "data": {
      "image/png": "[encoded data removed]",
      "text/plain": [
       "<Figure size 640x480 with 1 Axes>"
      ]
     },
     "metadata": {},
     "output_type": "display_data"
    }
   ],
   "source": [
    "# plot Fourier transform of the result\n",
    "Freqs = output.times[1] - output.times[0]\n",
    "FFT_meanJy = plt.psd(meanJy,Fs=Freqs)\n",
    "FFT_meanJz = plt.psd(meanJz,Fs=Freqs)\n",
    "\n",
    "# print(type(FFT_meanJx[0]))\n",
    "# fig\n",
    "# plt.plot(FFT_meanJy[1],FFT_meanJy[0])"
   ]
  }
 ],
 "metadata": {
  "kernelspec": {
   "display_name": "Python 3",
   "language": "python",
   "name": "python3"
  },
  "language_info": {
   "codemirror_mode": {
    "name": "ipython",
    "version": 3
   },
   "file_extension": ".py",
   "mimetype": "text/x-python",
   "name": "python",
   "nbconvert_exporter": "python",
   "pygments_lexer": "ipython3",
   "version": "3.11.4"
  },
  "orig_nbformat": 4
 },
 "nbformat": 4,
 "nbformat_minor": 2
}
